{
 "cells": [
  {
   "cell_type": "code",
   "execution_count": 2,
   "id": "246e62fd",
   "metadata": {},
   "outputs": [
    {
     "name": "stdout",
     "output_type": "stream",
     "text": [
      "importing Jupyter notebook from additional_functions.ipynb\n"
     ]
    }
   ],
   "source": [
    "# Importing packages\n",
    "import import_ipynb\n",
    "from additional_functions import *\n",
    "import numpy as np\n",
    "import math\n",
    "import numpy.random as random\n",
    "# Setting seed\n",
    "random.seed(123)\n",
    "# Creating a dataset\n",
    "nr_agents = 40\n",
    "nr_experiments = 10\n",
    "# Walls list to check\n",
    "# Making room\n",
    "room_height = 734 # height of the room\n",
    "room_width = 1284 # width of the room\n",
    "room_left = 100 # left pixels coordinate\n",
    "room_top = 50 # top pixels coordeinate\n",
    "\"\"\"\n",
    "\n",
    "Now we need to create the doors through which objects will leave in case of evacuation\n",
    "This door's position can be determined using:\n",
    "\n",
    "\"\"\"\n",
    "\n",
    "# makes door list\n",
    "# Door 1\n",
    "door1_xright = 446\n",
    "door1_xleft = 374\n",
    "    \n",
    "# Door 2\n",
    "door2_yleft = 1038\n",
    "door2_yright = 1110\n",
    "    \n",
    "walls = [[room_left, room_top, room_left + room_width, room_top], #bottom wall\n",
    "         [room_left, room_top, room_left, room_top + room_height], #left wall\n",
    "         [room_left + room_width, room_top, room_left + room_width, room_top + room_height], #right wall\n",
    "         [room_left, room_top + room_height, door1_xleft, room_top + room_height],\n",
    "         [door1_xright, room_top + room_height, door2_yleft, room_top + room_height],\n",
    "         [door2_yright, room_top + room_height, room_left + room_width, room_top + room_height]]\n",
    "\n",
    "# List to save positions\n",
    "positionmatrix = []\n",
    "# For all experiments\n",
    "for j in range(0,nr_experiments):\n",
    "    nr_experiment = j + 1\n",
    "    agents_found = 0 \n",
    "    for i in range(0,nr_agents): # For all objects   \n",
    "        # We start by finding a random position in the room \n",
    "        found = False\n",
    "        countwall = 0\n",
    "        while found == False:\n",
    "            countwall = 0\n",
    "            desiredS =  20\n",
    "            mass = 80 #np.random.uniform(60,100)\n",
    "            radius = 12/80 * mass\n",
    "            object_x = np.random.uniform(100,1284)\n",
    "            object_y = np.random.uniform(50,784)\n",
    "            for wall in walls:\n",
    "                r_i = radius\n",
    "                d_iw,e_iw = distance_agent_to_wall(np.array([object_x, object_y]),wall)\n",
    "                if d_iw < r_i:\n",
    "                    countwall += 1\n",
    "            \n",
    "            if len([positionmatrix[i] for i in range(j*nr_agents, j*nr_agents + agents_found)]) > 0:\n",
    "                # counts the number of ...\n",
    "                countagents = 0\n",
    "                for position in [positionmatrix[i] for i in range(j*nr_agents, j*nr_agents + agents_found)]:\n",
    "                    dist = math.sqrt((position[0]-object_x)**2 + (position[1]-object_y)**2)\n",
    "                    if dist > position[2] + radius: \n",
    "                        countagents += 1\n",
    "                if countagents == i and countwall == 0:\n",
    "                    found = True\n",
    "                    agents_found += 1 \n",
    "            elif countwall == 0:\n",
    "                found = True\n",
    "                agents_found += 1 \n",
    "    \n",
    "        positionmatrix.append([object_x, object_y, radius, mass, desiredS, nr_experiment])"
   ]
  },
  {
   "cell_type": "code",
   "execution_count": 1,
   "id": "39272494",
   "metadata": {},
   "outputs": [
    {
     "name": "stdout",
     "output_type": "stream",
     "text": [
      "[(0.0, 0.0), (0.0, 156.8), (0.0, 313.6), (0.0, 470.40000000000003), (0.0, 627.2), (128.4, 0.0), (128.4, 156.8), (128.4, 313.6), (128.4, 470.40000000000003), (128.4, 627.2), (256.8, 0.0), (256.8, 156.8), (256.8, 313.6), (256.8, 470.40000000000003), (256.8, 627.2), (385.20000000000005, 0.0), (385.20000000000005, 156.8), (385.20000000000005, 313.6), (385.20000000000005, 470.40000000000003), (385.20000000000005, 627.2), (513.6, 0.0), (513.6, 156.8), (513.6, 313.6), (513.6, 470.40000000000003), (513.6, 627.2), (642.0, 0.0), (642.0, 156.8), (642.0, 313.6), (642.0, 470.40000000000003), (642.0, 627.2), (770.4000000000001, 0.0), (770.4000000000001, 156.8), (770.4000000000001, 313.6), (770.4000000000001, 470.40000000000003), (770.4000000000001, 627.2), (898.8000000000001, 0.0), (898.8000000000001, 156.8), (898.8000000000001, 313.6), (898.8000000000001, 470.40000000000003), (898.8000000000001, 627.2), (1027.2, 0.0), (1027.2, 156.8), (1027.2, 313.6), (1027.2, 470.40000000000003), (1027.2, 627.2), (1155.6000000000001, 0.0), (1155.6000000000001, 156.8), (1155.6000000000001, 313.6), (1155.6000000000001, 470.40000000000003), (1155.6000000000001, 627.2)]\n"
     ]
    }
   ],
   "source": [
    "import numpy as np\n",
    "\n",
    "grid_size_x = 10  # specify the number of grid cells in the x-axis\n",
    "grid_size_y = 5   # specify the number of grid cells in the y-axis\n",
    "\n",
    "# initialize an empty list to store agent coordinates\n",
    "agent_coordinates = []\n",
    "\n",
    "# iterate over the grid cells\n",
    "for x in range(grid_size_x):\n",
    "    for y in range(grid_size_y):\n",
    "        # calculate the x and y coordinates based on grid position\n",
    "        object_x = x * (1284 / grid_size_x)  # adjust the range based on grid size\n",
    "        object_y = y * (784 / grid_size_y)   # adjust the range based on grid size\n",
    "        \n",
    "        # add the coordinates to the list\n",
    "        agent_coordinates.append((object_x, object_y))\n",
    "\n",
    "# print the result\n",
    "print(agent_coordinates)\n"
   ]
  }
 ],
 "metadata": {
  "kernelspec": {
   "display_name": "Python 3 (ipykernel)",
   "language": "python",
   "name": "python3"
  },
  "language_info": {
   "codemirror_mode": {
    "name": "ipython",
    "version": 3
   },
   "file_extension": ".py",
   "mimetype": "text/x-python",
   "name": "python",
   "nbconvert_exporter": "python",
   "pygments_lexer": "ipython3",
   "version": "3.11.3"
  }
 },
 "nbformat": 4,
 "nbformat_minor": 5
}
