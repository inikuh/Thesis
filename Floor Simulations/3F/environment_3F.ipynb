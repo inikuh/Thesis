{
 "cells": [
  {
   "cell_type": "code",
   "execution_count": null,
   "id": "d09cee83",
   "metadata": {},
   "outputs": [],
   "source": [
    "# Importing packages\n",
    "import import_ipynb\n",
    "from additional_functions import *\n",
    "import numpy as np\n",
    "import math\n",
    "import numpy.random as random\n",
    "\n",
    "# Setting seed\n",
    "random.seed(123)\n",
    "\n",
    "# Creating a dataset\n",
    "nr_agents = 54\n",
    "nr_experiments = 10\n",
    "\n",
    "# Walls list to check\n",
    "room_height = 600 # height of the room\n",
    "room_width = 600 # width of the room\n",
    "room_left = 100 # left pixels coordinate\n",
    "room_top = 100 # top pixels coordeinate\n",
    "\n",
    "buffer = 100\n",
    "\n",
    "# Door 1\n",
    "door_ytop = 382 # 376\n",
    "door_ybottom = 418 # 424\n",
    "door_xleft = 382\n",
    "door_xright = 418\n",
    "second_room_offset = 600\n",
    "corridor = 150\n",
    "\n",
    "\"\"\" \n",
    "    Now we need to create the doors through which objects will leave in case of evacuation\n",
    "    This door's position can be determined using:\n",
    "\"\"\"\n",
    "\n",
    "\n"
   ]
  }
 ],
 "metadata": {
  "kernelspec": {
   "display_name": "Python 3 (ipykernel)",
   "language": "python",
   "name": "python3"
  },
  "language_info": {
   "codemirror_mode": {
    "name": "ipython",
    "version": 3
   },
   "file_extension": ".py",
   "mimetype": "text/x-python",
   "name": "python",
   "nbconvert_exporter": "python",
   "pygments_lexer": "ipython3",
   "version": "3.11.5"
  }
 },
 "nbformat": 4,
 "nbformat_minor": 5
}
